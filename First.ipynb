{
 "cells": [
  {
   "cell_type": "code",
   "execution_count": 1,
   "id": "d883d8b6-9407-493f-9ce4-5b3ca4d47a98",
   "metadata": {},
   "outputs": [
    {
     "name": "stdout",
     "output_type": "stream",
     "text": [
      "member1이 작업함\n"
     ]
    }
   ],
   "source": [
    "print('member1이 작업함')"
   ]
  },
  {
   "cell_type": "code",
   "execution_count": 2,
   "id": "34f4153f-4307-49a8-b626-0811bec4a6d0",
   "metadata": {},
   "outputs": [
    {
     "name": "stdout",
     "output_type": "stream",
     "text": [
      "member1이 또 작업함\n"
     ]
    }
   ],
   "source": [
    "print('member1이 또 작업함')"
   ]
  }
 ],
 "metadata": {
  "kernelspec": {
   "display_name": "Python 3 (ipykernel)",
   "language": "python",
   "name": "python3"
  },
  "language_info": {
   "codemirror_mode": {
    "name": "ipython",
    "version": 3
   },
   "file_extension": ".py",
   "mimetype": "text/x-python",
   "name": "python",
   "nbconvert_exporter": "python",
   "pygments_lexer": "ipython3",
   "version": "3.11.5"
  }
 },
 "nbformat": 4,
 "nbformat_minor": 5
}
